{
 "cells": [
  {
   "cell_type": "code",
   "execution_count": 1,
   "metadata": {},
   "outputs": [],
   "source": [
    "import numpy as var\n",
    "import matplotlib.pyplot as var2"
   ]
  },
  {
   "cell_type": "code",
   "execution_count": 2,
   "metadata": {},
   "outputs": [],
   "source": [
    "matriks = [[3,7,7,8,10,12,14,10],\n",
    "[2,0,0,0,1,8,15,15],\n",
    "[14,6,5,9,8,10,9,12],\n",
    "[12,12,11,8,8,10,11,1],\n",
    "[0,2,3,4,5,13,10,14],\n",
    "[4,5,0,0,1,0,2,2],\n",
    "[15,13,11,10,9,9,8,7],\n",
    "[2,1,0,10,11,14,13,12]]\n",
    "\n",
    "i = [0,1,2,3,4,5,6,7,8,9,10,11,12,13,14,15]"
   ]
  },
  {
   "cell_type": "code",
   "execution_count": 3,
   "metadata": {},
   "outputs": [],
   "source": [
    "n= 16\n",
    "newMatriks = var.zeros(n)\n",
    "\n",
    "\n",
    "for row in matriks:\n",
    "    for col in row:\n",
    "        newMatriks[col] += 1"
   ]
  },
  {
   "cell_type": "code",
   "execution_count": 4,
   "metadata": {},
   "outputs": [
    {
     "name": "stdout",
     "output_type": "stream",
     "text": [
      "[8. 4. 5. 2. 2. 3. 1. 3. 6. 4. 7. 4. 5. 3. 4. 3.]\n"
     ]
    }
   ],
   "source": [
    "print(newMatriks)"
   ]
  },
  {
   "cell_type": "code",
   "execution_count": 5,
   "metadata": {},
   "outputs": [
    {
     "name": "stdout",
     "output_type": "stream",
     "text": [
      "[0.125    0.0625   0.078125 0.03125  0.03125  0.046875 0.015625 0.046875\n",
      " 0.09375  0.0625   0.109375 0.0625   0.078125 0.046875 0.0625   0.046875]\n"
     ]
    }
   ],
   "source": [
    "result = newMatriks/64\n",
    "\n",
    "print(result)"
   ]
  },
  {
   "cell_type": "code",
   "execution_count": 7,
   "metadata": {},
   "outputs": [
    {
     "data": {
      "text/plain": [
       "<BarContainer object of 16 artists>"
      ]
     },
     "execution_count": 7,
     "metadata": {},
     "output_type": "execute_result"
    },
    {
     "data": {
      "image/png": "[encoded data removed]",
      "text/plain": [
       "<Figure size 432x288 with 1 Axes>"
      ]
     },
     "metadata": {
      "needs_background": "light"
     },
     "output_type": "display_data"
    }
   ],
   "source": [
    "var2.xlabel(\"grey\")\n",
    "var2.ylabel(\"Pixel\")\n",
    "var2.bar(i,newMatriks)"
   ]
  },
  {
   "cell_type": "code",
   "execution_count": 8,
   "metadata": {},
   "outputs": [
    {
     "data": {
      "text/plain": [
       "<BarContainer object of 16 artists>"
      ]
     },
     "execution_count": 8,
     "metadata": {},
     "output_type": "execute_result"
    },
    {
     "data": {
      "image/png": "[encoded data removed]",
      "text/plain": [
       "<Figure size 432x288 with 1 Axes>"
      ]
     },
     "metadata": {
      "needs_background": "light"
     },
     "output_type": "display_data"
    }
   ],
   "source": [
    "var2.xlabel(\"grey\")\n",
    "var2.ylabel(\"probabilitas\")\n",
    "var2.bar(i,result)"
   ]
  },
  {
   "cell_type": "code",
   "execution_count": null,
   "metadata": {},
   "outputs": [],
   "source": []
  }
 ],
 "metadata": {
  "kernelspec": {
   "display_name": "Python 3",
   "language": "python",
   "name": "python3"
  },
  "language_info": {
   "codemirror_mode": {
    "name": "ipython",
    "version": 3
   },
   "file_extension": ".py",
   "mimetype": "text/x-python",
   "name": "python",
   "nbconvert_exporter": "python",
   "pygments_lexer": "ipython3",
   "version": "3.7.3"
  }
 },
 "nbformat": 4,
 "nbformat_minor": 2
}
